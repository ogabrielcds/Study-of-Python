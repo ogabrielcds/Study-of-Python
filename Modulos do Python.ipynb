{
 "cells": [
  {
   "cell_type": "markdown",
   "id": "3b749315",
   "metadata": {},
   "source": [
    "## Matplotlib"
   ]
  },
  {
   "cell_type": "code",
   "execution_count": 2,
   "id": "2ccb8bc0",
   "metadata": {},
   "outputs": [],
   "source": [
    "import matplotlib.pyplot as plt"
   ]
  },
  {
   "cell_type": "code",
   "execution_count": 5,
   "id": "77afc4bf",
   "metadata": {},
   "outputs": [
    {
     "data": {
      "image/png": "[encoded data removed]",
      "text/plain": [
       "<Figure size 640x480 with 1 Axes>"
      ]
     },
     "metadata": {},
     "output_type": "display_data"
    }
   ],
   "source": [
    "# 1) Exemplo de gráfico.\n",
    "\n",
    "x = [1,2,3,4,5,6,7]\n",
    "y = [1,4,9,16,25,36,49]\n",
    "\n",
    "plt.plot(x,y,color='green') #Plota o gráfico\n",
    "plt.scatter(x,y, color='red') #Plota os pontos do gráfico\n",
    "plt.title('Valores e seus quadrados') #Título ao gráfico\n",
    "plt.show() #Mostra o gráfico"
   ]
  },
  {
   "cell_type": "markdown",
   "id": "dfc689b7",
   "metadata": {},
   "source": [
    "## Pandas"
   ]
  },
  {
   "cell_type": "code",
   "execution_count": 3,
   "id": "91ab7930",
   "metadata": {},
   "outputs": [],
   "source": [
    "import pandas as pd"
   ]
  },
  {
   "cell_type": "code",
   "execution_count": 6,
   "id": "e74ac2a0",
   "metadata": {},
   "outputs": [
    {
     "name": "stdout",
     "output_type": "stream",
     "text": [
      "    data  valor produto  qnt\n",
      "0  15/11    200  feijão    5\n",
      "1  15/12    300   arroz   10\n"
     ]
    },
    {
     "data": {
      "text/html": [
       "<div>\n",
       "<style scoped>\n",
       "    .dataframe tbody tr th:only-of-type {\n",
       "        vertical-align: middle;\n",
       "    }\n",
       "\n",
       "    .dataframe tbody tr th {\n",
       "        vertical-align: top;\n",
       "    }\n",
       "\n",
       "    .dataframe thead th {\n",
       "        text-align: right;\n",
       "    }\n",
       "</style>\n",
       "<table border=\"1\" class=\"dataframe\">\n",
       "  <thead>\n",
       "    <tr style=\"text-align: right;\">\n",
       "      <th></th>\n",
       "      <th>data</th>\n",
       "      <th>valor</th>\n",
       "      <th>produto</th>\n",
       "      <th>qnt</th>\n",
       "    </tr>\n",
       "  </thead>\n",
       "  <tbody>\n",
       "    <tr>\n",
       "      <th>0</th>\n",
       "      <td>15/11</td>\n",
       "      <td>200</td>\n",
       "      <td>feijão</td>\n",
       "      <td>5</td>\n",
       "    </tr>\n",
       "    <tr>\n",
       "      <th>1</th>\n",
       "      <td>15/12</td>\n",
       "      <td>300</td>\n",
       "      <td>arroz</td>\n",
       "      <td>10</td>\n",
       "    </tr>\n",
       "  </tbody>\n",
       "</table>\n",
       "</div>"
      ],
      "text/plain": [
       "    data  valor produto  qnt\n",
       "0  15/11    200  feijão    5\n",
       "1  15/12    300   arroz   10"
      ]
     },
     "metadata": {},
     "output_type": "display_data"
    }
   ],
   "source": [
    "# 1) Exemplo de tabela.\n",
    "\n",
    "venda = {'data':['15/11', '15/12'],\n",
    "         'valor': [200,300],\n",
    "         'produto': ['feijão', 'arroz'],\n",
    "         'qnt': [5,10],\n",
    "        }                                         \n",
    "\n",
    "vendas_df = pd.DataFrame(venda)\n",
    "print(vendas_df) #printa a tabela normal\n",
    "display(vendas_df) #printa a tabela estiliazada"
   ]
  },
  {
   "cell_type": "code",
   "execution_count": 1,
   "id": "5807dd85",
   "metadata": {},
   "outputs": [
    {
     "ename": "NameError",
     "evalue": "name 'home' is not defined",
     "output_type": "error",
     "traceback": [
      "\u001b[0;31m---------------------------------------------------------------------------\u001b[0m",
      "\u001b[0;31mNameError\u001b[0m                                 Traceback (most recent call last)",
      "Cell \u001b[0;32mIn [1], line 1\u001b[0m\n\u001b[0;32m----> 1\u001b[0m \u001b[43mhome\u001b[49m\u001b[38;5;241m/\u001b[39mogabrielcds\u001b[38;5;241m/\u001b[39mamb_projetos\u001b[38;5;241m/\u001b[39mamb_projetos_env\u001b[38;5;241m/\u001b[39m\u001b[38;5;28mbin\u001b[39m()\n",
      "\u001b[0;31mNameError\u001b[0m: name 'home' is not defined"
     ]
    }
   ],
   "source": [
    "/home/ogabrielcds/amb_projetos/amb_projetos_env/bin"
   ]
  }
 ],
 "metadata": {
  "kernelspec": {
   "display_name": "Python 3 (ipykernel)",
   "language": "python",
   "name": "python3"
  },
  "language_info": {
   "codemirror_mode": {
    "name": "ipython",
    "version": 3
   },
   "file_extension": ".py",
   "mimetype": "text/x-python",
   "name": "python",
   "nbconvert_exporter": "python",
   "pygments_lexer": "ipython3",
   "version": "3.10.6"
  }
 },
 "nbformat": 4,
 "nbformat_minor": 5
}
