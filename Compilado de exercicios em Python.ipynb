{
 "cells": [
  {
   "cell_type": "markdown",
   "id": "6c213a5f",
   "metadata": {},
   "source": [
    "# Listas"
   ]
  },
  {
   "cell_type": "code",
   "execution_count": null,
   "id": "d455b6c5",
   "metadata": {},
   "outputs": [],
   "source": [
    "###Exercício 1\n",
    "\n",
    "# input:\n",
    "vec = input().split()\n",
    "vec = [int(x) for x in vec]\n",
    "\n",
    "# soma dos vetores:\n",
    "s = 0\n",
    "\n",
    "for x in range(len(vec)):\n",
    "    s+=vec[x]\n",
    "print(s)\n",
    "\n",
    "# número de ocorrências:\n",
    "l = []\n",
    "\n",
    "for x in vec:\n",
    "    if x == vec[-1]:\n",
    "        l.append(x)\n",
    "print(len(l))\n",
    "\n",
    "# máximo da lista:\n",
    "print(max(vec))\n",
    "\n",
    "#indices dos máximos:\n",
    "i = list()\n",
    "for indice, item in enumerate(vec):\n",
    "    if item == max(vec):\n",
    "        i.append(indice)\n",
    "print(*i)"
   ]
  },
  {
   "cell_type": "code",
   "execution_count": null,
   "id": "99d1b3a0",
   "metadata": {},
   "outputs": [],
   "source": [
    "### Exercício 2\n",
    "\n",
    "# input:\n",
    "vec = []\n",
    "\n",
    "while True:\n",
    "    i = input()\n",
    "    i = int(i)\n",
    "    if i < 0:\n",
    "        break\n",
    "    else:\n",
    "        vec.append(i)\n",
    "\n",
    "# qnt de valores > 5:\n",
    "qnt_cinco = []\n",
    "for x in vec:\n",
    "    if x > 5:\n",
    "        qnt_cinco.append(x)\n",
    "c = len(qnt_cinco)\n",
    "print(c)\n",
    "# soma dos valores pares e valores ímpares:\n",
    "s_p = 0\n",
    "s_i = 0\n",
    "for x in vec:\n",
    "    if x%2 == 0:\n",
    "        s_p += x\n",
    "    else:\n",
    "        s_i += x\n",
    "print(s_p)\n",
    "print(s_i)\n",
    "\n",
    "# qnt total de valores:\n",
    "comp = len(vec)\n",
    "print(comp)\n",
    "\n",
    "# o vetor:\n",
    "print(*vec)"
   ]
  },
  {
   "cell_type": "code",
   "execution_count": null,
   "id": "9395d9db",
   "metadata": {},
   "outputs": [],
   "source": [
    "### Exercício 3"
   ]
  },
  {
   "cell_type": "code",
   "execution_count": 3,
   "id": "6753b30f",
   "metadata": {},
   "outputs": [
    {
     "name": "stdout",
     "output_type": "stream",
     "text": [
      "2.00 1.00 20.00 5.00 17.00 19.00 14.00 4.00 18.00 5.00\n",
      "2.00 2.00\n",
      "3.00 2.00\n",
      "23.00 40.00\n",
      "28.00 200.00\n",
      "45.00 3400.00\n",
      "64.00 64600.00\n",
      "78.00 904400.00\n",
      "82.00 3617600.00\n",
      "100.00 65116800.00\n",
      "105.00 325584000.00\n"
     ]
    }
   ],
   "source": [
    "### Exercício 4\n",
    "\n",
    "n = [float(x) for x in input().split()]\n",
    "\n",
    "s = n[0]\n",
    "p = n[0]\n",
    "\n",
    "for i in range(1,len(n)):\n",
    "    print('%.2f' % s, '%.2f' % p)\n",
    "    s += n[i]\n",
    "    p *= n[i]\n",
    "print('%.2f' % s, '%.2f' % p)"
   ]
  },
  {
   "cell_type": "code",
   "execution_count": 17,
   "id": "0663151a",
   "metadata": {},
   "outputs": [
    {
     "name": "stdout",
     "output_type": "stream",
     "text": [
      "3 3 -1 2 -10 5 5 2 3 1\n",
      "2 1 3 5\n",
      "1 1 1 -3 -5 6 7 8 8 10 89 3 2 2 1 1 -9 -7 12 31\n",
      "1 6 7 8 10 89 3 2 12 31\n"
     ]
    }
   ],
   "source": [
    "### Exercício 5\n",
    "\n",
    "# input:\n",
    "vet = [int(i) for i in input().split()]\n",
    "\n",
    "# vetores positivos:\n",
    "vet_pos = []\n",
    "\n",
    "for i in vet:\n",
    "    if vet[i] >= 0:\n",
    "        vet_pos.append(vet[i])\n",
    "#print(*vet_pos)\n",
    "\n",
    "# excluir valores repetidos\n",
    "vet_f = []\n",
    "\n",
    "for i in vet_pos:\n",
    "    if i not in vet_f:\n",
    "        vet_f.append(i)\n",
    "print(*vet_f)\n",
    "\n",
    "# 2 forma de resolução:\n",
    "\n",
    "v = [int(x) for x in input().split()]\n",
    "p = [x for x in v if x > -1]\n",
    "\n",
    "p_r = []\n",
    "for i in p:\n",
    "    if i not in p_r:\n",
    "        p_r.append(i)\n",
    "print(*p_r)"
   ]
  },
  {
   "cell_type": "code",
   "execution_count": 31,
   "id": "54679a67",
   "metadata": {},
   "outputs": [
    {
     "name": "stdout",
     "output_type": "stream",
     "text": [
      "14 6 15 14 13 18 1 0 1 13 15 12 12 0 14 7 19 5 12\n",
      "0 2\n",
      "1 2\n",
      "12 3\n",
      "13 2\n",
      "14 3\n",
      "15 2\n"
     ]
    }
   ],
   "source": [
    "### Exercício 6\n",
    "\n",
    "vet = list(map(int,input().strip().split()))\n",
    "vet = sorted(vet)\n",
    "set_vet = list(set(vet))\n",
    "\n",
    "s = 0\n",
    "for i in set_vet:\n",
    "    s = 0\n",
    "    for j in vet:\n",
    "        if j == i:\n",
    "            s += 1\n",
    "    if s > 1:\n",
    "        print(i, s) "
   ]
  },
  {
   "cell_type": "code",
   "execution_count": null,
   "id": "f51bda6d",
   "metadata": {},
   "outputs": [],
   "source": [
    "### Exercício 7"
   ]
  },
  {
   "cell_type": "code",
   "execution_count": null,
   "id": "3cbab05b",
   "metadata": {},
   "outputs": [],
   "source": [
    "### Exercício 8\n",
    "# Meu código (não entendi o que falhou):\n",
    "t_a, a = int(input()), set(list(map(int,input().strip().split())))\n",
    "\n",
    "t_b, b = int(input()), set(list(map(int,input().strip().split())))\n",
    "\n",
    "c = a & b\n",
    "d = len(c)\n",
    "\n",
    "if d == 0:\n",
    "    print('*')\n",
    "else:\n",
    "    c = sorted(c)\n",
    "    print(*c)\n",
    "    \n",
    "# Resolução correta:\n",
    "t_a = int(input())\n",
    "a = list(map(int,input().strip().split()))\n",
    "\n",
    "t_b = int(input())\n",
    "b = list(map(int,input().strip().split()))\n",
    "\n",
    "if (len(a) == t_a and len(b) == t_b):\n",
    "    intersec = [str(i) for i in a if i in b]\n",
    "    print(*intersec if intersec else '*')"
   ]
  },
  {
   "cell_type": "code",
   "execution_count": null,
   "id": "8794677d",
   "metadata": {},
   "outputs": [],
   "source": [
    "### Exercício 9"
   ]
  },
  {
   "cell_type": "code",
   "execution_count": null,
   "id": "166e76a6",
   "metadata": {},
   "outputs": [],
   "source": [
    "### Exercício 10\n",
    "\n",
    "m = []\n",
    "#t_l = []\n",
    "while True:\n",
    "    l = input().split()\n",
    "    if l[-1] != 'FIM':\n",
    "        m.append(l)\n",
    "        #l_l = len(l)\n",
    "        #t_l.append(l_l)\n",
    "        continue\n",
    "    else:\n",
    "        break\n",
    "\n",
    "l_l = len(l)\n",
    "l_m = len(m)\n",
    "\n",
    "r = input().split('-')\n",
    "l_r = len(r)\n",
    "\n",
    "for j in range(l_m):\n",
    "    x = len(m[j])\n",
    "    s = 0    \n",
    "    for i in range(1,x):\n",
    "        for k in r:\n",
    "            if k == m[j][i]:\n",
    "                s+= 1\n",
    "                print(s)\n",
    "\n",
    "    \n",
    "#for i in r:\n",
    "'''for j in range(l_m):\n",
    "    x = len(m[j])'''\n",
    "'''for i,j in m (len(m[j]),range(l_m)):\n",
    "    print(m[i][j])'''\n",
    "\n",
    "                  \n",
    "#print(t_l)\n",
    "\n",
    "\n",
    "\n",
    "'''for i in r:\n",
    "    for j in range(l_m):\n",
    "        s = 0\n",
    "        for c in range(l_m):\n",
    "            x = len(m[j])\n",
    "            for k in range(1,x):\n",
    "                if r[i] == m[k][j]:\n",
    "                    s+=1\n",
    "            print(m[0][j], s)'''\n",
    "            \n",
    "    \n",
    "'''for j in m (range(x),range(l_m)):\n",
    "        s = 0\n",
    "        if r[i] == m[j][k]:\n",
    "            s+=1\n",
    "            print(m[k][0], s)'''\n",
    "        \n",
    "        \n",
    "'''for k in t_l:\n",
    "            if r[i] == m[][j]\n",
    "    for k in t_l:\n",
    "        s = 0\n",
    "        for j in range(l_m):\n",
    "            if r[i] == m[j][k]:\n",
    "                s += 1\n",
    "                print(m[k][0], s)'''\n",
    "                \n",
    "'''print(m)\n",
    "print(l_l)\n",
    "print(l_m)\n",
    "print(r)\n",
    "print(l_r)'''\n",
    "\n",
    "\n",
    "\n",
    "\n",
    "\n",
    "#Entrada das apostas:\n",
    "m = []\n",
    "n = []\n",
    "while True:\n",
    "    l = input().split()\n",
    "    if l[-1] != 'FIM':\n",
    "        n.append(l[0])\n",
    "        l.pop(0)\n",
    "        m.append(l)\n",
    "        continue\n",
    "    else:\n",
    "        break\n",
    "\n",
    "l_l = len(l)\n",
    "l_m = len(m)\n",
    "print(m)\n",
    "print(n)\n",
    "\n",
    "#Entrada dos resultados:\n",
    "r = input().split('-')\n",
    "l_r = len(r)\n",
    "print(r)\n",
    "\n",
    "#Verificar os números sorteados\n",
    "\n",
    "for j in m:\n",
    "    for i in m:\n",
    "        print(i)\n",
    "        break\n",
    "    \n",
    "    \n",
    "#print(m[i][k])"
   ]
  },
  {
   "cell_type": "markdown",
   "id": "c6a0ebf4",
   "metadata": {},
   "source": [
    "\n",
    "# Tuplas"
   ]
  },
  {
   "cell_type": "markdown",
   "id": "b9d50937",
   "metadata": {},
   "source": [
    "### 1) Exercício para escrever por extenso números de 0 a 20, utilizando tuplas."
   ]
  },
  {
   "cell_type": "code",
   "execution_count": 1,
   "id": "4be6de8b",
   "metadata": {},
   "outputs": [
    {
     "name": "stdout",
     "output_type": "stream",
     "text": [
      "Digite um número entre 0 e 20:5\n",
      "Você digitou o número cinco.\n"
     ]
    }
   ],
   "source": [
    "#Meu código:\n",
    "\n",
    "num = int(input('Digite um número entre 0 e 20:'))\n",
    "\n",
    "resp = ''\n",
    "tupla = ('zero', 'um', 'dois', 'três', 'quatro', 'cinco', 'seis', 'sete', 'oito', 'nove', 'dez', 'onze', 'doze', 'treze', 'catorze', 'quinze', 'dezesseis', 'dezessete', 'dezoito', 'dezenove', 'vinte')\n",
    "\n",
    "if 20 >= num >= 0:\n",
    " resp = tupla[num]\n",
    " print('Você digitou o número {}.'.format(resp)) \n",
    "else:\n",
    " print('Tente novamente! Digite um número de 0 a 20')"
   ]
  },
  {
   "cell_type": "code",
   "execution_count": 2,
   "id": "c4965448",
   "metadata": {},
   "outputs": [
    {
     "name": "stdout",
     "output_type": "stream",
     "text": [
      "Digite um número entre 0 e 20:9\n",
      "Você digitou o número nove\n"
     ]
    }
   ],
   "source": [
    "# Resolução:\n",
    "\n",
    "cont = ('zero', 'um', 'dois', 'três', 'quatro', 'cinco', 'seis', 'sete', 'oito', 'nove', 'dez', 'onze', 'doze', 'treze', 'catorze', 'quinze', 'dezesseis', 'dezessete', 'dezoito', 'dezenove', 'vinte')\n",
    "while True:\n",
    "    num = int(input('Digite um número entre 0 e 20:'))\n",
    "    if 20 >= num >= 0:\n",
    "        break\n",
    "    print('Tente novamente! ', end='')\n",
    "print(f'Você digitou o número {cont[num]}')"
   ]
  },
  {
   "cell_type": "code",
   "execution_count": null,
   "id": "6cf69d70",
   "metadata": {},
   "outputs": [],
   "source": []
  }
 ],
 "metadata": {
  "kernelspec": {
   "display_name": "Python 3 (ipykernel)",
   "language": "python",
   "name": "python3"
  },
  "language_info": {
   "codemirror_mode": {
    "name": "ipython",
    "version": 3
   },
   "file_extension": ".py",
   "mimetype": "text/x-python",
   "name": "python",
   "nbconvert_exporter": "python",
   "pygments_lexer": "ipython3",
   "version": "3.10.6"
  }
 },
 "nbformat": 4,
 "nbformat_minor": 5
}
